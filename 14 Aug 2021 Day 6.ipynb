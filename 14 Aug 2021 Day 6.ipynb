{
 "cells": [
  {
   "cell_type": "markdown",
   "id": "f33578ad",
   "metadata": {},
   "source": [
    "# Creating a Function"
   ]
  },
  {
   "cell_type": "code",
   "execution_count": 1,
   "id": "778a806f",
   "metadata": {},
   "outputs": [],
   "source": [
    "def silicon_tech(number):\n",
    "    print(f'Am siliconite and my age is :{number}')"
   ]
  },
  {
   "cell_type": "code",
   "execution_count": 2,
   "id": "e2d0e3c9",
   "metadata": {},
   "outputs": [
    {
     "name": "stdout",
     "output_type": "stream",
     "text": [
      "Am siliconite and my age is :20\n"
     ]
    }
   ],
   "source": [
    "silicon_tech(20)"
   ]
  },
  {
   "cell_type": "markdown",
   "id": "fa02c7d8",
   "metadata": {},
   "source": [
    "# Print v/s Return "
   ]
  },
  {
   "cell_type": "code",
   "execution_count": 3,
   "id": "d1d5e939",
   "metadata": {},
   "outputs": [],
   "source": [
    "def sum_result(a,b):\n",
    "    print(a+b)"
   ]
  },
  {
   "cell_type": "code",
   "execution_count": 4,
   "id": "40bf55b4",
   "metadata": {},
   "outputs": [
    {
     "name": "stdout",
     "output_type": "stream",
     "text": [
      "5\n"
     ]
    }
   ],
   "source": [
    "sum_result(2,3)"
   ]
  },
  {
   "cell_type": "code",
   "execution_count": 5,
   "id": "239b96eb",
   "metadata": {},
   "outputs": [],
   "source": [
    "def sum_result(a,b):\n",
    "    return(a+b)"
   ]
  },
  {
   "cell_type": "code",
   "execution_count": 7,
   "id": "08c3518b",
   "metadata": {},
   "outputs": [],
   "source": [
    "result=sum_result(2,3)"
   ]
  },
  {
   "cell_type": "code",
   "execution_count": 8,
   "id": "3263cfb7",
   "metadata": {},
   "outputs": [
    {
     "data": {
      "text/plain": [
       "5"
      ]
     },
     "execution_count": 8,
     "metadata": {},
     "output_type": "execute_result"
    }
   ],
   "source": [
    "result"
   ]
  },
  {
   "cell_type": "code",
   "execution_count": null,
   "id": "312e8cdd",
   "metadata": {},
   "outputs": [],
   "source": [
    "# Q) use function to check the list is even or odd and return even only\n",
    "def check_number(list):\n",
    "    return([a for a in list if a%2==0])"
   ]
  },
  {
   "cell_type": "code",
   "execution_count": 6,
   "id": "a84472c6",
   "metadata": {},
   "outputs": [],
   "source": [
    "k=check_number([1,2,3,4,5])"
   ]
  },
  {
   "cell_type": "code",
   "execution_count": 7,
   "id": "0c586d8f",
   "metadata": {},
   "outputs": [
    {
     "data": {
      "text/plain": [
       "[2, 4]"
      ]
     },
     "execution_count": 7,
     "metadata": {},
     "output_type": "execute_result"
    }
   ],
   "source": [
    "k"
   ]
  },
  {
   "cell_type": "markdown",
   "id": "412e0e23",
   "metadata": {},
   "source": [
    "# Note: Return basically breaking out of the function."
   ]
  },
  {
   "cell_type": "code",
   "execution_count": 12,
   "id": "58eb35bd",
   "metadata": {},
   "outputs": [],
   "source": [
    "def check_num(list1):\n",
    "    for i in list1:\n",
    "        if i%2==0:\n",
    "            return (True)\n",
    "        else:\n",
    "            pass\n",
    "        \n",
    "list1=[1,2,3,4,5]\n",
    "k=check_num(list1)"
   ]
  },
  {
   "cell_type": "code",
   "execution_count": 13,
   "id": "9d877139",
   "metadata": {},
   "outputs": [
    {
     "data": {
      "text/plain": [
       "True"
      ]
     },
     "execution_count": 13,
     "metadata": {},
     "output_type": "execute_result"
    }
   ],
   "source": [
    "k"
   ]
  },
  {
   "cell_type": "code",
   "execution_count": 14,
   "id": "be1f37cc",
   "metadata": {},
   "outputs": [],
   "source": [
    "# Q) student_name=[('Ram',50),('gita',100),('shyam',30)]. Name of the student who have secured highest mark.\n",
    "def student_name(data):\n",
    "    mark=0\n",
    "    student=''\n",
    "    for student1,mark1 in data:\n",
    "        if(mark1>mark):\n",
    "            mark=mark1\n",
    "            student=student1\n",
    "        else:\n",
    "            pass\n",
    "    return(student,mark)"
   ]
  },
  {
   "cell_type": "code",
   "execution_count": 16,
   "id": "813e225f",
   "metadata": {},
   "outputs": [
    {
     "data": {
      "text/plain": [
       "('gita', 100)"
      ]
     },
     "execution_count": 16,
     "metadata": {},
     "output_type": "execute_result"
    }
   ],
   "source": [
    "data=[('Ram',50),('gita',100),('shyam',30)]\n",
    "student_name(data)"
   ]
  },
  {
   "cell_type": "code",
   "execution_count": 17,
   "id": "6c6fea4f",
   "metadata": {},
   "outputs": [],
   "source": [
    "mylist=[4,3,2,1]"
   ]
  },
  {
   "cell_type": "code",
   "execution_count": 18,
   "id": "3fd9f298",
   "metadata": {},
   "outputs": [],
   "source": [
    "from random import shuffle\n",
    "newlist=shuffle(mylist)"
   ]
  },
  {
   "cell_type": "code",
   "execution_count": 19,
   "id": "e5bfb897",
   "metadata": {},
   "outputs": [
    {
     "data": {
      "text/plain": [
       "[1, 4, 2, 3]"
      ]
     },
     "execution_count": 19,
     "metadata": {},
     "output_type": "execute_result"
    }
   ],
   "source": [
    "mylist"
   ]
  },
  {
   "cell_type": "code",
   "execution_count": null,
   "id": "20fea3a7",
   "metadata": {},
   "outputs": [],
   "source": []
  }
 ],
 "metadata": {
  "kernelspec": {
   "display_name": "Python 3",
   "language": "python",
   "name": "python3"
  },
  "language_info": {
   "codemirror_mode": {
    "name": "ipython",
    "version": 3
   },
   "file_extension": ".py",
   "mimetype": "text/x-python",
   "name": "python",
   "nbconvert_exporter": "python",
   "pygments_lexer": "ipython3",
   "version": "3.8.8"
  }
 },
 "nbformat": 4,
 "nbformat_minor": 5
}
