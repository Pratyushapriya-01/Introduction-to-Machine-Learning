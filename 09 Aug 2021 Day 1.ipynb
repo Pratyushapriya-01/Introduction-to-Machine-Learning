{
 "cells": [
  {
   "cell_type": "code",
   "execution_count": 1,
   "id": "cffc8b76",
   "metadata": {},
   "outputs": [
    {
     "name": "stdout",
     "output_type": "stream",
     "text": [
      "enter a number20\n"
     ]
    }
   ],
   "source": [
    "a=input('enter a number') "
   ]
  },
  {
   "cell_type": "code",
   "execution_count": 2,
   "id": "b367c27d",
   "metadata": {},
   "outputs": [],
   "source": [
    "b=30 "
   ]
  },
  {
   "cell_type": "code",
   "execution_count": 3,
   "id": "e44bef9a",
   "metadata": {},
   "outputs": [
    {
     "ename": "TypeError",
     "evalue": "can only concatenate str (not \"int\") to str",
     "output_type": "error",
     "traceback": [
      "\u001b[1;31m---------------------------------------------------------------------------\u001b[0m",
      "\u001b[1;31mTypeError\u001b[0m                                 Traceback (most recent call last)",
      "\u001b[1;32m<ipython-input-3-978a86391025>\u001b[0m in \u001b[0;36m<module>\u001b[1;34m\u001b[0m\n\u001b[1;32m----> 1\u001b[1;33m \u001b[0msum\u001b[0m\u001b[1;33m=\u001b[0m\u001b[0ma\u001b[0m\u001b[1;33m+\u001b[0m\u001b[0mb\u001b[0m\u001b[1;33m\u001b[0m\u001b[1;33m\u001b[0m\u001b[0m\n\u001b[0m",
      "\u001b[1;31mTypeError\u001b[0m: can only concatenate str (not \"int\") to str"
     ]
    }
   ],
   "source": [
    "sum=a+b"
   ]
  },
  {
   "cell_type": "code",
   "execution_count": 4,
   "id": "8f7e50e6",
   "metadata": {},
   "outputs": [
    {
     "data": {
      "text/plain": [
       "str"
      ]
     },
     "execution_count": 4,
     "metadata": {},
     "output_type": "execute_result"
    }
   ],
   "source": [
    "type(a)"
   ]
  },
  {
   "cell_type": "code",
   "execution_count": 5,
   "id": "79cef2d9",
   "metadata": {},
   "outputs": [
    {
     "data": {
      "text/plain": [
       "int"
      ]
     },
     "execution_count": 5,
     "metadata": {},
     "output_type": "execute_result"
    }
   ],
   "source": [
    "type(b)"
   ]
  },
  {
   "cell_type": "markdown",
   "id": "22c5fbaa",
   "metadata": {},
   "source": [
    "# string\n",
    "## indexing"
   ]
  },
  {
   "cell_type": "code",
   "execution_count": 7,
   "id": "5ebcd876",
   "metadata": {},
   "outputs": [],
   "source": [
    "my_name='silicon'"
   ]
  },
  {
   "cell_type": "code",
   "execution_count": 9,
   "id": "edf532b7",
   "metadata": {},
   "outputs": [
    {
     "data": {
      "text/plain": [
       "'silicon'"
      ]
     },
     "execution_count": 9,
     "metadata": {},
     "output_type": "execute_result"
    }
   ],
   "source": [
    "my_name"
   ]
  },
  {
   "cell_type": "markdown",
   "id": "bbbad653",
   "metadata": {},
   "source": [
    "# extract character o from silicon"
   ]
  },
  {
   "cell_type": "code",
   "execution_count": 10,
   "id": "c0242f61",
   "metadata": {},
   "outputs": [
    {
     "data": {
      "text/plain": [
       "'o'"
      ]
     },
     "execution_count": 10,
     "metadata": {},
     "output_type": "execute_result"
    }
   ],
   "source": [
    "my_name[5]"
   ]
  },
  {
   "cell_type": "code",
   "execution_count": 11,
   "id": "69064489",
   "metadata": {},
   "outputs": [
    {
     "data": {
      "text/plain": [
       "'o'"
      ]
     },
     "execution_count": 11,
     "metadata": {},
     "output_type": "execute_result"
    }
   ],
   "source": [
    "my_name[-2]"
   ]
  },
  {
   "cell_type": "code",
   "execution_count": 12,
   "id": "e0bc05a4",
   "metadata": {},
   "outputs": [
    {
     "data": {
      "text/plain": [
       "'s'"
      ]
     },
     "execution_count": 12,
     "metadata": {},
     "output_type": "execute_result"
    }
   ],
   "source": [
    "my_name[0]"
   ]
  },
  {
   "cell_type": "code",
   "execution_count": 13,
   "id": "9e669f59",
   "metadata": {},
   "outputs": [
    {
     "data": {
      "text/plain": [
       "'s'"
      ]
     },
     "execution_count": 13,
     "metadata": {},
     "output_type": "execute_result"
    }
   ],
   "source": [
    "my_name[-7]"
   ]
  },
  {
   "cell_type": "markdown",
   "id": "639edd09",
   "metadata": {},
   "source": [
    "# slicing"
   ]
  },
  {
   "cell_type": "code",
   "execution_count": 14,
   "id": "3defba09",
   "metadata": {},
   "outputs": [],
   "source": [
    "clg_name='Silicon Institute of Technoclogy'"
   ]
  },
  {
   "cell_type": "code",
   "execution_count": 16,
   "id": "0ec361ea",
   "metadata": {},
   "outputs": [
    {
     "data": {
      "text/plain": [
       "'Institute'"
      ]
     },
     "execution_count": 16,
     "metadata": {},
     "output_type": "execute_result"
    }
   ],
   "source": [
    "clg_name[8:17]"
   ]
  },
  {
   "cell_type": "code",
   "execution_count": 17,
   "id": "f629efdd",
   "metadata": {},
   "outputs": [
    {
     "data": {
      "text/plain": [
       "'Isiue'"
      ]
     },
     "execution_count": 17,
     "metadata": {},
     "output_type": "execute_result"
    }
   ],
   "source": [
    "clg_name[8:17:2]"
   ]
  },
  {
   "cell_type": "markdown",
   "id": "8ecdcf4b",
   "metadata": {},
   "source": [
    "# Reverse the String"
   ]
  },
  {
   "cell_type": "code",
   "execution_count": 18,
   "id": "5c74e3cb",
   "metadata": {},
   "outputs": [
    {
     "data": {
      "text/plain": [
       "'ygolconhceT fo etutitsnI nociliS'"
      ]
     },
     "execution_count": 18,
     "metadata": {},
     "output_type": "execute_result"
    }
   ],
   "source": [
    "clg_name[-1::-1]"
   ]
  },
  {
   "cell_type": "code",
   "execution_count": 19,
   "id": "8f74d90b",
   "metadata": {},
   "outputs": [
    {
     "data": {
      "text/plain": [
       "'ygolconhceT fo etutitsnI nociliS'"
      ]
     },
     "execution_count": 19,
     "metadata": {},
     "output_type": "execute_result"
    }
   ],
   "source": [
    "clg_name[::-1]"
   ]
  },
  {
   "cell_type": "markdown",
   "id": "cee0cbf2",
   "metadata": {},
   "source": [
    "# Printing The Statement"
   ]
  },
  {
   "cell_type": "code",
   "execution_count": 20,
   "id": "09ffa643",
   "metadata": {},
   "outputs": [
    {
     "name": "stdout",
     "output_type": "stream",
     "text": [
      "Silicon Institute of Technoclogy\n"
     ]
    }
   ],
   "source": [
    "print(clg_name)"
   ]
  },
  {
   "cell_type": "code",
   "execution_count": 21,
   "id": "0e2e8b39",
   "metadata": {},
   "outputs": [
    {
     "data": {
      "text/plain": [
       "'Silicon Institute of Technoclogy'"
      ]
     },
     "execution_count": 21,
     "metadata": {},
     "output_type": "execute_result"
    }
   ],
   "source": [
    "clg_name"
   ]
  },
  {
   "cell_type": "code",
   "execution_count": 22,
   "id": "10d6e9e4",
   "metadata": {},
   "outputs": [
    {
     "name": "stdout",
     "output_type": "stream",
     "text": [
      "Pratyusha\n"
     ]
    }
   ],
   "source": [
    "print('Pratyusha')"
   ]
  },
  {
   "cell_type": "code",
   "execution_count": 24,
   "id": "d2604466",
   "metadata": {},
   "outputs": [],
   "source": [
    "name='Pratyusha'"
   ]
  },
  {
   "cell_type": "code",
   "execution_count": 25,
   "id": "d7426aa6",
   "metadata": {},
   "outputs": [
    {
     "data": {
      "text/plain": [
       "'Pratyusha'"
      ]
     },
     "execution_count": 25,
     "metadata": {},
     "output_type": "execute_result"
    }
   ],
   "source": [
    "name"
   ]
  },
  {
   "cell_type": "code",
   "execution_count": 26,
   "id": "f3d49f25",
   "metadata": {},
   "outputs": [],
   "source": [
    "name=20"
   ]
  },
  {
   "cell_type": "code",
   "execution_count": 27,
   "id": "7d0d243e",
   "metadata": {},
   "outputs": [
    {
     "data": {
      "text/plain": [
       "20"
      ]
     },
     "execution_count": 27,
     "metadata": {},
     "output_type": "execute_result"
    }
   ],
   "source": [
    "name"
   ]
  },
  {
   "cell_type": "code",
   "execution_count": 28,
   "id": "36cf5112",
   "metadata": {},
   "outputs": [
    {
     "name": "stdout",
     "output_type": "stream",
     "text": [
      "Silicon \n",
      "Institute \n",
      "of \n",
      "Technoclogy\n"
     ]
    }
   ],
   "source": [
    "print('Silicon \\nInstitute \\nof \\nTechnoclogy')"
   ]
  },
  {
   "cell_type": "code",
   "execution_count": 29,
   "id": "c31a68f9",
   "metadata": {},
   "outputs": [
    {
     "name": "stdout",
     "output_type": "stream",
     "text": [
      "S\ti\tli\tcon\n"
     ]
    }
   ],
   "source": [
    "print('S\\ti\\tli\\tcon')"
   ]
  },
  {
   "cell_type": "code",
   "execution_count": 30,
   "id": "d2be3d54",
   "metadata": {},
   "outputs": [],
   "source": [
    "name='Intitute'"
   ]
  },
  {
   "cell_type": "code",
   "execution_count": 32,
   "id": "ecead7bc",
   "metadata": {},
   "outputs": [
    {
     "data": {
      "text/plain": [
       "'etut'"
      ]
     },
     "execution_count": 32,
     "metadata": {},
     "output_type": "execute_result"
    }
   ],
   "source": [
    "name[-1:-5:-1]"
   ]
  },
  {
   "cell_type": "code",
   "execution_count": 33,
   "id": "0af1c5f9",
   "metadata": {},
   "outputs": [
    {
     "data": {
      "text/plain": [
       "'tute'"
      ]
     },
     "execution_count": 33,
     "metadata": {},
     "output_type": "execute_result"
    }
   ],
   "source": [
    "name[-4:]"
   ]
  },
  {
   "cell_type": "code",
   "execution_count": 34,
   "id": "9b724eda",
   "metadata": {},
   "outputs": [
    {
     "data": {
      "text/plain": [
       "'tute'"
      ]
     },
     "execution_count": 34,
     "metadata": {},
     "output_type": "execute_result"
    }
   ],
   "source": [
    "'Institute'[-4:]"
   ]
  },
  {
   "cell_type": "markdown",
   "id": "9250fd72",
   "metadata": {},
   "source": [
    "# Eliane Function or the length function"
   ]
  },
  {
   "cell_type": "code",
   "execution_count": 35,
   "id": "23633a07",
   "metadata": {},
   "outputs": [
    {
     "data": {
      "text/plain": [
       "7"
      ]
     },
     "execution_count": 35,
     "metadata": {},
     "output_type": "execute_result"
    }
   ],
   "source": [
    "len('silicon')"
   ]
  },
  {
   "cell_type": "markdown",
   "id": "8d34e91d",
   "metadata": {},
   "source": [
    "# String Properties"
   ]
  },
  {
   "cell_type": "markdown",
   "id": "8b806e18",
   "metadata": {},
   "source": [
    "# 1) Immutability"
   ]
  },
  {
   "cell_type": "code",
   "execution_count": 36,
   "id": "4adea959",
   "metadata": {},
   "outputs": [],
   "source": [
    "name='Ram'"
   ]
  },
  {
   "cell_type": "code",
   "execution_count": 38,
   "id": "37d9cf79",
   "metadata": {},
   "outputs": [
    {
     "data": {
      "text/plain": [
       "'Sam'"
      ]
     },
     "execution_count": 38,
     "metadata": {},
     "output_type": "execute_result"
    }
   ],
   "source": [
    "'S'+'Ram'[1:]"
   ]
  },
  {
   "cell_type": "markdown",
   "id": "b538c8f7",
   "metadata": {},
   "source": [
    "# 2) Formatting String\n",
    "# a) .format()\n",
    "# My name is Pratyusha, Silicon Tech, 2021"
   ]
  },
  {
   "cell_type": "code",
   "execution_count": 39,
   "id": "dc670a05",
   "metadata": {},
   "outputs": [
    {
     "name": "stdout",
     "output_type": "stream",
     "text": [
      "My name is Pratyusha,Silicon Tech,2021\n"
     ]
    }
   ],
   "source": [
    "print('My name is {},{},{}'.format('Pratyusha','Silicon Tech','2021'))"
   ]
  },
  {
   "cell_type": "code",
   "execution_count": 40,
   "id": "a404b1a4",
   "metadata": {},
   "outputs": [
    {
     "name": "stdout",
     "output_type": "stream",
     "text": [
      "My name is 2021,Pratyusha,Silicon Tech\n"
     ]
    }
   ],
   "source": [
    "print('My name is {2},{0},{1}'.format('Pratyusha','Silicon Tech','2021'))"
   ]
  },
  {
   "cell_type": "code",
   "execution_count": 42,
   "id": "20dafac6",
   "metadata": {},
   "outputs": [
    {
     "name": "stdout",
     "output_type": "stream",
     "text": [
      "My name is Pratyusha,Silicon Tech,2021\n"
     ]
    }
   ],
   "source": [
    "print('My name is {name},{clg},{yr}'.format(name='Pratyusha',clg='Silicon Tech',yr='2021'))"
   ]
  },
  {
   "cell_type": "markdown",
   "id": "7134e9e0",
   "metadata": {},
   "source": [
    "# b) f-string ()"
   ]
  },
  {
   "cell_type": "code",
   "execution_count": 46,
   "id": "0dee6519",
   "metadata": {},
   "outputs": [
    {
     "name": "stdout",
     "output_type": "stream",
     "text": [
      "My name isPratyusha,Silicon,2021\n"
     ]
    }
   ],
   "source": [
    "print(f\"My name is{'Pratyusha'},{'Silicon'},{'2021'}\")"
   ]
  },
  {
   "cell_type": "code",
   "execution_count": 49,
   "id": "fd57d095",
   "metadata": {},
   "outputs": [
    {
     "name": "stdout",
     "output_type": "stream",
     "text": [
      "My name is Pratyusha,Silicon,2021\n"
     ]
    }
   ],
   "source": [
    "name='Pratyusha'\n",
    "clg='Silicon'\n",
    "yr='2021'\n",
    "print(f'My name is {name},{clg},{yr}')"
   ]
  },
  {
   "cell_type": "code",
   "execution_count": 51,
   "id": "ef84f4fc",
   "metadata": {},
   "outputs": [
    {
     "name": "stdout",
     "output_type": "stream",
     "text": [
      "My name is Pratyusha\n"
     ]
    }
   ],
   "source": [
    "print(f\"My name is {'Pratyusha'}\")"
   ]
  },
  {
   "cell_type": "code",
   "execution_count": 52,
   "id": "798002ba",
   "metadata": {},
   "outputs": [
    {
     "name": "stdout",
     "output_type": "stream",
     "text": [
      "My name is Pratyusha,Silicon,2021\n"
     ]
    }
   ],
   "source": [
    "print(f\"My name is {'Pratyusha'},{'Silicon'},{'2021'}\")"
   ]
  },
  {
   "cell_type": "code",
   "execution_count": 1,
   "id": "8b6ba930",
   "metadata": {},
   "outputs": [
    {
     "name": "stdout",
     "output_type": "stream",
     "text": [
      "SILICON\n"
     ]
    }
   ],
   "source": [
    "x='silicon'\n",
    "y=x.upper()\n",
    "print(y)"
   ]
  },
  {
   "cell_type": "code",
   "execution_count": null,
   "id": "dddb6a87",
   "metadata": {},
   "outputs": [],
   "source": []
  }
 ],
 "metadata": {
  "kernelspec": {
   "display_name": "Python 3",
   "language": "python",
   "name": "python3"
  },
  "language_info": {
   "codemirror_mode": {
    "name": "ipython",
    "version": 3
   },
   "file_extension": ".py",
   "mimetype": "text/x-python",
   "name": "python",
   "nbconvert_exporter": "python",
   "pygments_lexer": "ipython3",
   "version": "3.8.8"
  }
 },
 "nbformat": 4,
 "nbformat_minor": 5
}
