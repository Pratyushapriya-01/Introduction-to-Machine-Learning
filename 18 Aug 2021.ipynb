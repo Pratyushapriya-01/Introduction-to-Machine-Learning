{
 "cells": [
  {
   "cell_type": "code",
   "execution_count": 4,
   "id": "ec71b7d1",
   "metadata": {},
   "outputs": [],
   "source": [
    "class student():\n",
    "    def __init__(self,name,regd):\n",
    "        self.name=name\n",
    "        self.regd=regd"
   ]
  },
  {
   "cell_type": "code",
   "execution_count": 5,
   "id": "cb641750",
   "metadata": {},
   "outputs": [],
   "source": [
    "y=student('Pratyusha',566)"
   ]
  },
  {
   "cell_type": "code",
   "execution_count": 6,
   "id": "bb25b103",
   "metadata": {},
   "outputs": [
    {
     "data": {
      "text/plain": [
       "566"
      ]
     },
     "execution_count": 6,
     "metadata": {},
     "output_type": "execute_result"
    }
   ],
   "source": [
    "y.regd"
   ]
  },
  {
   "cell_type": "code",
   "execution_count": 7,
   "id": "d52edc37",
   "metadata": {},
   "outputs": [
    {
     "data": {
      "text/plain": [
       "'Pratyusha'"
      ]
     },
     "execution_count": 7,
     "metadata": {},
     "output_type": "execute_result"
    }
   ],
   "source": [
    "y.name"
   ]
  },
  {
   "cell_type": "code",
   "execution_count": null,
   "id": "061bd5fa",
   "metadata": {},
   "outputs": [],
   "source": [
    "class student():\n",
    "    def __init__(self,name,regd):\n",
    "        self.name=name\n",
    "        self.regd=regd\n",
    "    def xyz(self):\n",
    "        print(f'Hello! My name is {self.name} with registration number {self.regd}')"
   ]
  },
  {
   "cell_type": "code",
   "execution_count": 15,
   "id": "0fbc5913",
   "metadata": {},
   "outputs": [],
   "source": [
    "z=student('Pratyusha',452)"
   ]
  },
  {
   "cell_type": "code",
   "execution_count": 17,
   "id": "645c4ae0",
   "metadata": {},
   "outputs": [
    {
     "name": "stdout",
     "output_type": "stream",
     "text": [
      "Hello! My name is Pratyusha with registration number 452\n"
     ]
    }
   ],
   "source": [
    "z.xyz()"
   ]
  },
  {
   "cell_type": "markdown",
   "id": "b527d57d",
   "metadata": {},
   "source": [
    "# Class Object Attribute "
   ]
  },
  {
   "cell_type": "code",
   "execution_count": 18,
   "id": "e2c43be8",
   "metadata": {},
   "outputs": [],
   "source": [
    "class student():\n",
    "    course='Intro to ML'\n",
    "    def __init__(self,name,regd):\n",
    "        self.name=name\n",
    "        self.regd=regd\n",
    "    def xyz(self):\n",
    "        print(f'Hello! My name is {self.name} with registration number {self.regd}')"
   ]
  },
  {
   "cell_type": "code",
   "execution_count": 19,
   "id": "52265f3a",
   "metadata": {},
   "outputs": [],
   "source": [
    "z=student('Pratyusha',452)"
   ]
  },
  {
   "cell_type": "code",
   "execution_count": 30,
   "id": "daae65d7",
   "metadata": {},
   "outputs": [],
   "source": [
    "class student():\n",
    "    exam='ML exam'\n",
    "    def __init__(self,name,age):\n",
    "        self.name=name\n",
    "        self.age=age\n",
    "    def getdetails(self,marks):\n",
    "        print(f'Hello! My name is {self.name},age {self.age},and scored {marks} in ML exam')"
   ]
  },
  {
   "cell_type": "code",
   "execution_count": 31,
   "id": "a18e5c11",
   "metadata": {},
   "outputs": [],
   "source": [
    "x=student('Raj',25)"
   ]
  },
  {
   "cell_type": "code",
   "execution_count": 32,
   "id": "769cbc84",
   "metadata": {},
   "outputs": [
    {
     "name": "stdout",
     "output_type": "stream",
     "text": [
      "Hello! My name is Raj,age 25,and scored 10 in ML exam\n"
     ]
    }
   ],
   "source": [
    "x.getdetails(10)"
   ]
  },
  {
   "cell_type": "markdown",
   "id": "ff6b923c",
   "metadata": {},
   "source": [
    "# Q) WAP to calculate area and circumferance of a circle"
   ]
  },
  {
   "cell_type": "code",
   "execution_count": 36,
   "id": "70cd5d7c",
   "metadata": {},
   "outputs": [],
   "source": [
    "#attribute=Radius\n",
    "#method circumferance evaluate circumferance of a circle\n",
    "class circle():\n",
    "    pi=3.14\n",
    "    def __init__(self,r):\n",
    "        self.r=r\n",
    "        self.a=3.14*(self.r**2)\n",
    "    def circum(self):\n",
    "        print(f\"Area : {self.a} \\nCircumference : {self.c}\")\n",
    "    "
   ]
  },
  {
   "cell_type": "code",
   "execution_count": 37,
   "id": "9471e056",
   "metadata": {},
   "outputs": [],
   "source": [
    "x=circle(10)"
   ]
  },
  {
   "cell_type": "code",
   "execution_count": 39,
   "id": "6229b6cc",
   "metadata": {},
   "outputs": [
    {
     "name": "stdout",
     "output_type": "stream",
     "text": [
      "Area : 314.0 \n",
      "Circumference : 62.800000000000004\n"
     ]
    }
   ],
   "source": [
    "x.result()"
   ]
  },
  {
   "cell_type": "code",
   "execution_count": null,
   "id": "1d63b77b",
   "metadata": {},
   "outputs": [],
   "source": []
  }
 ],
 "metadata": {
  "kernelspec": {
   "display_name": "Python 3",
   "language": "python",
   "name": "python3"
  },
  "language_info": {
   "codemirror_mode": {
    "name": "ipython",
    "version": 3
   },
   "file_extension": ".py",
   "mimetype": "text/x-python",
   "name": "python",
   "nbconvert_exporter": "python",
   "pygments_lexer": "ipython3",
   "version": "3.8.8"
  }
 },
 "nbformat": 4,
 "nbformat_minor": 5
}
