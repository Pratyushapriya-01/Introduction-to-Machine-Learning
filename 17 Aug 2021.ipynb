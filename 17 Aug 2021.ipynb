{
 "cells": [
  {
   "cell_type": "markdown",
   "id": "ccea2deb",
   "metadata": {},
   "source": [
    "# Fuctional Arguments:\n",
    "# 1.*args(Arguments)\n",
    "# 2.**kwargs(keyword Arguments)"
   ]
  },
  {
   "cell_type": "code",
   "execution_count": 1,
   "id": "efd76516",
   "metadata": {},
   "outputs": [],
   "source": [
    "# *argsa,b\n",
    "def my_func(a,b):\n",
    "    return sum((a,b))"
   ]
  },
  {
   "cell_type": "code",
   "execution_count": 2,
   "id": "f37ac0f6",
   "metadata": {},
   "outputs": [
    {
     "data": {
      "text/plain": [
       "5"
      ]
     },
     "execution_count": 2,
     "metadata": {},
     "output_type": "execute_result"
    }
   ],
   "source": [
    "my_func(2,3)"
   ]
  },
  {
   "cell_type": "code",
   "execution_count": 3,
   "id": "60a3178c",
   "metadata": {},
   "outputs": [
    {
     "ename": "TypeError",
     "evalue": "my_func() takes 2 positional arguments but 4 were given",
     "output_type": "error",
     "traceback": [
      "\u001b[1;31m---------------------------------------------------------------------------\u001b[0m",
      "\u001b[1;31mTypeError\u001b[0m                                 Traceback (most recent call last)",
      "\u001b[1;32m<ipython-input-3-01769693e750>\u001b[0m in \u001b[0;36m<module>\u001b[1;34m\u001b[0m\n\u001b[1;32m----> 1\u001b[1;33m \u001b[0mmy_func\u001b[0m\u001b[1;33m(\u001b[0m\u001b[1;36m2\u001b[0m\u001b[1;33m,\u001b[0m\u001b[1;36m3\u001b[0m\u001b[1;33m,\u001b[0m\u001b[1;36m4\u001b[0m\u001b[1;33m,\u001b[0m\u001b[1;36m5\u001b[0m\u001b[1;33m)\u001b[0m\u001b[1;33m\u001b[0m\u001b[1;33m\u001b[0m\u001b[0m\n\u001b[0m",
      "\u001b[1;31mTypeError\u001b[0m: my_func() takes 2 positional arguments but 4 were given"
     ]
    }
   ],
   "source": [
    "my_func(2,3,4,5)"
   ]
  },
  {
   "cell_type": "code",
   "execution_count": 4,
   "id": "62335fb6",
   "metadata": {},
   "outputs": [],
   "source": [
    "def my_func(*args):\n",
    "    return sum(args)"
   ]
  },
  {
   "cell_type": "code",
   "execution_count": 5,
   "id": "55b5c7ca",
   "metadata": {},
   "outputs": [
    {
     "data": {
      "text/plain": [
       "14"
      ]
     },
     "execution_count": 5,
     "metadata": {},
     "output_type": "execute_result"
    }
   ],
   "source": [
    "my_func(2,3,4,5)"
   ]
  },
  {
   "cell_type": "code",
   "execution_count": 6,
   "id": "1f663067",
   "metadata": {},
   "outputs": [],
   "source": [
    "def my_func(*sit):\n",
    "    return sum(sit)"
   ]
  },
  {
   "cell_type": "code",
   "execution_count": 7,
   "id": "33ab4211",
   "metadata": {},
   "outputs": [
    {
     "data": {
      "text/plain": [
       "15"
      ]
     },
     "execution_count": 7,
     "metadata": {},
     "output_type": "execute_result"
    }
   ],
   "source": [
    "my_func(2,3,10)"
   ]
  },
  {
   "cell_type": "markdown",
   "id": "63a188b0",
   "metadata": {},
   "source": [
    "# *args can be replaced by any other keyword like *sit. However, Coventionaly we use *args"
   ]
  },
  {
   "cell_type": "code",
   "execution_count": 8,
   "id": "5558f84a",
   "metadata": {},
   "outputs": [],
   "source": [
    "#**kwargs\n",
    "def my_func(**kwargs):\n",
    "    print(kwargs)"
   ]
  },
  {
   "cell_type": "code",
   "execution_count": 9,
   "id": "73e01550",
   "metadata": {},
   "outputs": [
    {
     "name": "stdout",
     "output_type": "stream",
     "text": [
      "{'brakefast': 30, 'lunch': 100}\n"
     ]
    }
   ],
   "source": [
    "my_func(brakefast=30,lunch=100)"
   ]
  },
  {
   "cell_type": "code",
   "execution_count": 10,
   "id": "30cd41cf",
   "metadata": {},
   "outputs": [
    {
     "name": "stdout",
     "output_type": "stream",
     "text": [
      "{'brakefast': 30, 'lunch': 100, 'dinner': 60}\n"
     ]
    }
   ],
   "source": [
    "my_func(brakefast=30,lunch=100,dinner=60)"
   ]
  },
  {
   "cell_type": "code",
   "execution_count": 15,
   "id": "85c678db",
   "metadata": {},
   "outputs": [],
   "source": [
    "def my_func(**kwargs):\n",
    "    if 'brakefast'in kwargs:\n",
    "        print(f\"The cost of breakfast is {kwargs['brakefast']}\")\n",
    "    elif 'lunch'in kwargs:\n",
    "        print(f\"The cost of lunch is {kwargs['lunch']}\")\n",
    "    elif 'dinner'in kwargs:\n",
    "        print(f\"The cost of dinner is {kwargs['dinner']}\")"
   ]
  },
  {
   "cell_type": "code",
   "execution_count": 16,
   "id": "989f481a",
   "metadata": {},
   "outputs": [
    {
     "name": "stdout",
     "output_type": "stream",
     "text": [
      "The cost of breakfast is 30\n"
     ]
    }
   ],
   "source": [
    "my_func(brakefast=30,lunch=100,dinner=60)"
   ]
  },
  {
   "cell_type": "code",
   "execution_count": 20,
   "id": "fd44502a",
   "metadata": {},
   "outputs": [],
   "source": [
    "#using both functional arguments\n",
    "def my_func(*args,**kwargs):\n",
    "    print('I would like to have {}: {}'.format(args[0],kwargs['lunch']))"
   ]
  },
  {
   "cell_type": "code",
   "execution_count": 21,
   "id": "c156989b",
   "metadata": {},
   "outputs": [
    {
     "name": "stdout",
     "output_type": "stream",
     "text": [
      "I would like to have 5: Paratha\n"
     ]
    }
   ],
   "source": [
    "my_func(5,8,12,brakefast='upma',lunch='Paratha',dinner='roti')"
   ]
  },
  {
   "cell_type": "markdown",
   "id": "a9e3c1c1",
   "metadata": {},
   "source": [
    "# Map Function"
   ]
  },
  {
   "cell_type": "code",
   "execution_count": 22,
   "id": "09aa6fe6",
   "metadata": {},
   "outputs": [],
   "source": [
    "def mysquare(num):\n",
    "    return num**2"
   ]
  },
  {
   "cell_type": "code",
   "execution_count": 24,
   "id": "7c769073",
   "metadata": {},
   "outputs": [
    {
     "data": {
      "text/plain": [
       "<map at 0x1c5fbab4c10>"
      ]
     },
     "execution_count": 24,
     "metadata": {},
     "output_type": "execute_result"
    }
   ],
   "source": [
    "mylist=[1,2,3,4]\n",
    "#objective is to get square of each object defined in mylist\n",
    "map(mysquare,mylist)"
   ]
  },
  {
   "cell_type": "code",
   "execution_count": 25,
   "id": "616b3340",
   "metadata": {},
   "outputs": [
    {
     "data": {
      "text/plain": [
       "[1, 4, 9, 16]"
      ]
     },
     "execution_count": 25,
     "metadata": {},
     "output_type": "execute_result"
    }
   ],
   "source": [
    "list(map(mysquare,mylist))"
   ]
  },
  {
   "cell_type": "markdown",
   "id": "a3a036fd",
   "metadata": {},
   "source": [
    "# Filter Function"
   ]
  },
  {
   "cell_type": "code",
   "execution_count": 26,
   "id": "d87d4327",
   "metadata": {},
   "outputs": [],
   "source": [
    "def check_even(num):\n",
    "    if num % 2==0:\n",
    "        return num"
   ]
  },
  {
   "cell_type": "code",
   "execution_count": 27,
   "id": "a77821d1",
   "metadata": {},
   "outputs": [
    {
     "data": {
      "text/plain": [
       "<filter at 0x1c5fbac3b20>"
      ]
     },
     "execution_count": 27,
     "metadata": {},
     "output_type": "execute_result"
    }
   ],
   "source": [
    "filter(check_even,[1,2,3,4])"
   ]
  },
  {
   "cell_type": "code",
   "execution_count": 28,
   "id": "40aac065",
   "metadata": {},
   "outputs": [
    {
     "data": {
      "text/plain": [
       "[2, 4]"
      ]
     },
     "execution_count": 28,
     "metadata": {},
     "output_type": "execute_result"
    }
   ],
   "source": [
    "list(filter(check_even,mylist))"
   ]
  },
  {
   "cell_type": "code",
   "execution_count": 29,
   "id": "1508be93",
   "metadata": {},
   "outputs": [
    {
     "data": {
      "text/plain": [
       "[None, 2, None, 4]"
      ]
     },
     "execution_count": 29,
     "metadata": {},
     "output_type": "execute_result"
    }
   ],
   "source": [
    "list(map(check_even,mylist))"
   ]
  },
  {
   "cell_type": "code",
   "execution_count": 30,
   "id": "7b23fb23",
   "metadata": {},
   "outputs": [],
   "source": [
    "my_square=lambda num:num**2"
   ]
  },
  {
   "cell_type": "code",
   "execution_count": 31,
   "id": "dcd9212f",
   "metadata": {},
   "outputs": [
    {
     "data": {
      "text/plain": [
       "4"
      ]
     },
     "execution_count": 31,
     "metadata": {},
     "output_type": "execute_result"
    }
   ],
   "source": [
    "mysquare(2)"
   ]
  },
  {
   "cell_type": "code",
   "execution_count": 32,
   "id": "ac636ceb",
   "metadata": {},
   "outputs": [
    {
     "data": {
      "text/plain": [
       "[1, 4, 9, 16]"
      ]
     },
     "execution_count": 32,
     "metadata": {},
     "output_type": "execute_result"
    }
   ],
   "source": [
    "mylist=[1,2,3,4]\n",
    "list(map(lambda num:num**2,mylist))"
   ]
  },
  {
   "cell_type": "code",
   "execution_count": 33,
   "id": "46268ae9",
   "metadata": {},
   "outputs": [
    {
     "data": {
      "text/plain": [
       "[2, 4]"
      ]
     },
     "execution_count": 33,
     "metadata": {},
     "output_type": "execute_result"
    }
   ],
   "source": [
    "list(filter(lambda num:num%2==0,[1,2,3,4]))"
   ]
  },
  {
   "cell_type": "markdown",
   "id": "deccd1eb",
   "metadata": {},
   "source": [
    "# Assignment 3 : Reverse a string 'silicon'using lambda expression"
   ]
  },
  {
   "cell_type": "code",
   "execution_count": 43,
   "id": "b100485d",
   "metadata": {},
   "outputs": [
    {
     "name": "stdout",
     "output_type": "stream",
     "text": [
      "Hello ITER\n"
     ]
    }
   ],
   "source": [
    " my_string='silicon'\n",
    "def clg_name():\n",
    "    my_string='Trident'\n",
    "    def hello():\n",
    "        my_string='ITER'\n",
    "        print(f'Hello {my_string}')\n",
    "    hello()\n",
    "    \n",
    "clg_name()"
   ]
  },
  {
   "cell_type": "code",
   "execution_count": 44,
   "id": "c1eefe9f",
   "metadata": {},
   "outputs": [
    {
     "data": {
      "text/plain": [
       "70"
      ]
     },
     "execution_count": 44,
     "metadata": {},
     "output_type": "execute_result"
    }
   ],
   "source": [
    "x=100\n",
    "def xyz():\n",
    "    x=70\n",
    "    return x\n",
    "xyz()"
   ]
  },
  {
   "cell_type": "markdown",
   "id": "fdf75fd4",
   "metadata": {},
   "source": [
    "# OOP"
   ]
  },
  {
   "cell_type": "code",
   "execution_count": 47,
   "id": "2c843581",
   "metadata": {},
   "outputs": [],
   "source": [
    "class Student():\n",
    "    def __init__(self,name,regd):\n",
    "        self.name=name\n",
    "        self.regd=regd"
   ]
  },
  {
   "cell_type": "code",
   "execution_count": null,
   "id": "5c95e30e",
   "metadata": {},
   "outputs": [],
   "source": []
  }
 ],
 "metadata": {
  "kernelspec": {
   "display_name": "Python 3",
   "language": "python",
   "name": "python3"
  },
  "language_info": {
   "codemirror_mode": {
    "name": "ipython",
    "version": 3
   },
   "file_extension": ".py",
   "mimetype": "text/x-python",
   "name": "python",
   "nbconvert_exporter": "python",
   "pygments_lexer": "ipython3",
   "version": "3.8.8"
  }
 },
 "nbformat": 4,
 "nbformat_minor": 5
}
