{
 "cells": [
  {
   "cell_type": "markdown",
   "id": "42ee2539",
   "metadata": {},
   "source": [
    "# Assignment - 1"
   ]
  },
  {
   "cell_type": "markdown",
   "id": "49350891",
   "metadata": {},
   "source": [
    "# w+ and r+ mode"
   ]
  },
  {
   "cell_type": "markdown",
   "id": "08881057",
   "metadata": {},
   "source": [
    "# \"w+\" Open for reading and writing. The file is created if itt does not exist, otherwisw it is truncated. The stream is positioned at the beginning of the file."
   ]
  },
  {
   "cell_type": "code",
   "execution_count": 1,
   "id": "f9077c91",
   "metadata": {},
   "outputs": [
    {
     "name": "stdout",
     "output_type": "stream",
     "text": [
      "silicon institue of technology\n"
     ]
    }
   ],
   "source": [
    "with open('my_file.txt','w+') as f:\n",
    "    f.write(\"silicon institue of technology\")\n",
    "    f.seek(0)\n",
    "    lines=f.read()\n",
    "    print(lines)"
   ]
  },
  {
   "cell_type": "code",
   "execution_count": 4,
   "id": "6ce356a4",
   "metadata": {},
   "outputs": [
    {
     "name": "stdout",
     "output_type": "stream",
     "text": [
      "Writing file1.txt\n"
     ]
    }
   ],
   "source": [
    "%%writefile file1.txt\n",
    "I\n",
    "am \n",
    "a \n",
    "siliconite!"
   ]
  },
  {
   "cell_type": "markdown",
   "id": "6e494892",
   "metadata": {},
   "source": [
    "# \"r+\" open for reading and writing. The stream is positioned at the beginning of the file."
   ]
  },
  {
   "cell_type": "code",
   "execution_count": 6,
   "id": "dab791f4",
   "metadata": {},
   "outputs": [],
   "source": [
    "with open('file1.txt','r+') as f:\n",
    "    f.read()\n",
    "    f.write('Hello world')"
   ]
  },
  {
   "cell_type": "code",
   "execution_count": 7,
   "id": "e9e6aac5",
   "metadata": {},
   "outputs": [
    {
     "name": "stdout",
     "output_type": "stream",
     "text": [
      "I\n",
      "am \n",
      "a \n",
      "siliconite!\n",
      "Hello world\n"
     ]
    }
   ],
   "source": [
    "with open('file1.txt','r+') as f:\n",
    "    print(f.read())"
   ]
  },
  {
   "cell_type": "markdown",
   "id": "64b84fdd",
   "metadata": {},
   "source": [
    "# ASSIGNMENT - 2"
   ]
  },
  {
   "cell_type": "markdown",
   "id": "45a6e0d5",
   "metadata": {},
   "source": [
    "# Q : WAP to find out the user guess is correct or not from the given list after shuffled"
   ]
  },
  {
   "cell_type": "code",
   "execution_count": 8,
   "id": "9f324d52",
   "metadata": {},
   "outputs": [],
   "source": [
    "list1=[1,2,3,4]\n",
    "from random import shuffle\n",
    "shuffle(list1)"
   ]
  },
  {
   "cell_type": "code",
   "execution_count": 9,
   "id": "0d49a4a8",
   "metadata": {},
   "outputs": [
    {
     "data": {
      "text/plain": [
       "[2, 1, 4, 3]"
      ]
     },
     "execution_count": 9,
     "metadata": {},
     "output_type": "execute_result"
    }
   ],
   "source": [
    "list1"
   ]
  },
  {
   "cell_type": "code",
   "execution_count": 13,
   "id": "de4688a1",
   "metadata": {},
   "outputs": [],
   "source": [
    "def guess(num,list1):\n",
    "    index=int(input('enter index:'))\n",
    "    if num==list1[index]:\n",
    "        return True\n",
    "    else:\n",
    "        return False"
   ]
  },
  {
   "cell_type": "code",
   "execution_count": 14,
   "id": "6fd095e4",
   "metadata": {},
   "outputs": [
    {
     "name": "stdout",
     "output_type": "stream",
     "text": [
      "enter index:2\n"
     ]
    },
    {
     "data": {
      "text/plain": [
       "False"
      ]
     },
     "execution_count": 14,
     "metadata": {},
     "output_type": "execute_result"
    }
   ],
   "source": [
    "guess(3,list1)"
   ]
  },
  {
   "cell_type": "code",
   "execution_count": 18,
   "id": "0cf726aa",
   "metadata": {},
   "outputs": [
    {
     "name": "stdout",
     "output_type": "stream",
     "text": [
      "enter index:3\n"
     ]
    },
    {
     "data": {
      "text/plain": [
       "True"
      ]
     },
     "execution_count": 18,
     "metadata": {},
     "output_type": "execute_result"
    }
   ],
   "source": [
    "guess(3,list1)"
   ]
  },
  {
   "cell_type": "markdown",
   "id": "764e0e32",
   "metadata": {},
   "source": [
    "# ASSIGNMENT - 3"
   ]
  },
  {
   "cell_type": "markdown",
   "id": "e57ab634",
   "metadata": {},
   "source": [
    "# Q : Reverse 'silicon' using lambda expression."
   ]
  },
  {
   "cell_type": "code",
   "execution_count": 16,
   "id": "4df54b0b",
   "metadata": {},
   "outputs": [],
   "source": [
    "rev=lambda name:name[::-1]"
   ]
  },
  {
   "cell_type": "code",
   "execution_count": 17,
   "id": "da72004a",
   "metadata": {},
   "outputs": [
    {
     "data": {
      "text/plain": [
       "'nocilis'"
      ]
     },
     "execution_count": 17,
     "metadata": {},
     "output_type": "execute_result"
    }
   ],
   "source": [
    "rev('silicon')"
   ]
  },
  {
   "cell_type": "markdown",
   "id": "62a70be2",
   "metadata": {},
   "source": [
    "# ASSIGNMENT - 4"
   ]
  },
  {
   "cell_type": "markdown",
   "id": "9ad54140",
   "metadata": {},
   "source": [
    "# Q : Handle the exception of given code by using try, except and finally to print 'Good job'.\n",
    "# for i in['x','y','z']\n",
    "# print(i**2)"
   ]
  },
  {
   "cell_type": "code",
   "execution_count": 19,
   "id": "f2bd4e04",
   "metadata": {},
   "outputs": [
    {
     "name": "stdout",
     "output_type": "stream",
     "text": [
      "Type Error\n",
      "Good Job\n"
     ]
    }
   ],
   "source": [
    "try:\n",
    "    for i in ['x','y','z']:\n",
    "        print(i**2)\n",
    "except SyntaxError:\n",
    "    print('Syntax error')\n",
    "except TypeError:\n",
    "    print('Type Error')\n",
    "except OSError:\n",
    "    print('Hey! There is an OSError')\n",
    "finally:\n",
    "    print('Good Job')"
   ]
  },
  {
   "cell_type": "code",
   "execution_count": null,
   "id": "b6decb58",
   "metadata": {},
   "outputs": [],
   "source": []
  },
  {
   "cell_type": "markdown",
   "id": "dcaab0aa",
   "metadata": {},
   "source": [
    "# Program to find out user guess is correct or not from given list after shuffling."
   ]
  },
  {
   "cell_type": "markdown",
   "id": "8cdcb8cc",
   "metadata": {},
   "source": [
    "# 2.User guess , check user guess and reshuffling function."
   ]
  },
  {
   "cell_type": "markdown",
   "id": "f0109476",
   "metadata": {},
   "source": [
    "# list_shuffle() to shuffle mylist."
   ]
  },
  {
   "cell_type": "code",
   "execution_count": 20,
   "id": "b2c37eb5",
   "metadata": {},
   "outputs": [],
   "source": [
    "from random import shuffle\n",
    "def list_shuffle(mylist):\n",
    "    shuffle(mylist)\n",
    "    return mylist"
   ]
  },
  {
   "cell_type": "markdown",
   "id": "a8816fcf",
   "metadata": {},
   "source": [
    "# user_guess_1st_pos() to take guess input from user"
   ]
  },
  {
   "cell_type": "code",
   "execution_count": 21,
   "id": "b184dcb2",
   "metadata": {},
   "outputs": [],
   "source": [
    "def user_guess_1st_pos():\n",
    "    user_guess = 's'\n",
    "    while user_guess > '4'or user_guess <= '0':\n",
    "        user_guess = input('guess first element of the list from range 1 to 4:')\n",
    "    return int(user_guess)"
   ]
  },
  {
   "cell_type": "markdown",
   "id": "b8ff62be",
   "metadata": {},
   "source": [
    "# check_user_guess() to check user guess from reshuffled list"
   ]
  },
  {
   "cell_type": "code",
   "execution_count": 24,
   "id": "8cb509fb",
   "metadata": {},
   "outputs": [],
   "source": [
    "def check_user_guess(user_guess,mylist):\n",
    "    if mylist[0]==user_guess:\n",
    "        print('correct guess for 1st pos')\n",
    "        print('Reshuffled list is : {}'.format(mylist))\n",
    "    else:\n",
    "        print('incorrect guess')\n",
    "        user_guess=user_guess_1st_pos()\n",
    "        check_user_guess(user_guess,mylist)"
   ]
  },
  {
   "cell_type": "code",
   "execution_count": 25,
   "id": "57466130",
   "metadata": {},
   "outputs": [
    {
     "name": "stdout",
     "output_type": "stream",
     "text": [
      "guess first element of the list from range 1 to 4:1\n",
      "correct guess for 1st pos\n",
      "Reshuffled list is : [1, 3, 2, 4]\n"
     ]
    }
   ],
   "source": [
    "mylist = [1,2,3,4]\n",
    "shuffled_list = list_shuffle(mylist)\n",
    "user_guess = user_guess_1st_pos()\n",
    "check_user_guess(user_guess,shuffled_list)"
   ]
  },
  {
   "cell_type": "code",
   "execution_count": null,
   "id": "0697f28c",
   "metadata": {},
   "outputs": [],
   "source": []
  }
 ],
 "metadata": {
  "kernelspec": {
   "display_name": "Python 3",
   "language": "python",
   "name": "python3"
  },
  "language_info": {
   "codemirror_mode": {
    "name": "ipython",
    "version": 3
   },
   "file_extension": ".py",
   "mimetype": "text/x-python",
   "name": "python",
   "nbconvert_exporter": "python",
   "pygments_lexer": "ipython3",
   "version": "3.8.8"
  }
 },
 "nbformat": 4,
 "nbformat_minor": 5
}
