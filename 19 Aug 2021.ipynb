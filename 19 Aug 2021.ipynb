{
 "cells": [
  {
   "cell_type": "markdown",
   "id": "d51e43cf",
   "metadata": {},
   "source": [
    "# Inheritance"
   ]
  },
  {
   "cell_type": "code",
   "execution_count": 17,
   "id": "61165d5a",
   "metadata": {},
   "outputs": [],
   "source": [
    "class student1():\n",
    "    def __init__(self,name,regd):\n",
    "        self.name=name\n",
    "        self.regd=regd\n",
    "    def xyz(self):\n",
    "        print(f'Hello! My name is {self.name} with registration number {self.regd}')"
   ]
  },
  {
   "cell_type": "code",
   "execution_count": 18,
   "id": "0858d076",
   "metadata": {},
   "outputs": [],
   "source": [
    "class student2(student1):\n",
    "    pass"
   ]
  },
  {
   "cell_type": "code",
   "execution_count": 19,
   "id": "4aebd77f",
   "metadata": {},
   "outputs": [],
   "source": [
    "x=student2('Ram',222)"
   ]
  },
  {
   "cell_type": "code",
   "execution_count": 20,
   "id": "7591633b",
   "metadata": {},
   "outputs": [
    {
     "name": "stdout",
     "output_type": "stream",
     "text": [
      "Hello! My name is Ram with registration number 222\n"
     ]
    }
   ],
   "source": [
    "x.xyz()"
   ]
  },
  {
   "cell_type": "code",
   "execution_count": 21,
   "id": "0dc2d786",
   "metadata": {},
   "outputs": [],
   "source": [
    "class student2(student1):\n",
    "    def __init__(self,clg,batch):\n",
    "        self.clg=clg\n",
    "        self.batch=batch"
   ]
  },
  {
   "cell_type": "code",
   "execution_count": 22,
   "id": "0a2442b9",
   "metadata": {},
   "outputs": [],
   "source": [
    "y=student2('silicon',2020)"
   ]
  },
  {
   "cell_type": "code",
   "execution_count": 23,
   "id": "ae28bb4e",
   "metadata": {},
   "outputs": [],
   "source": [
    "class student2(student1):\n",
    "    def __init__(self,name,regd,clg,batch):\n",
    "        student1.__init__(self,name,regd)\n",
    "        self.clg=clg\n",
    "        self.batch=batch"
   ]
  },
  {
   "cell_type": "code",
   "execution_count": 24,
   "id": "8d207aa1",
   "metadata": {},
   "outputs": [],
   "source": [
    "z=student2('Ram',222,'silicon',2008)"
   ]
  },
  {
   "cell_type": "code",
   "execution_count": 25,
   "id": "f37b8085",
   "metadata": {},
   "outputs": [],
   "source": [
    "class student2(student1):\n",
    "    def __init__(self,name,regd,clg,batch):\n",
    "        super().__init__(name,regd)\n",
    "        self.clg=clg\n",
    "        self.batch=batch"
   ]
  },
  {
   "cell_type": "code",
   "execution_count": 10,
   "id": "8c70d02e",
   "metadata": {},
   "outputs": [],
   "source": [
    "z=student2('Ram',222,'silicon',2008)"
   ]
  },
  {
   "cell_type": "code",
   "execution_count": 11,
   "id": "036a68ff",
   "metadata": {},
   "outputs": [
    {
     "data": {
      "text/plain": [
       "2008"
      ]
     },
     "execution_count": 11,
     "metadata": {},
     "output_type": "execute_result"
    }
   ],
   "source": [
    "z.batch"
   ]
  },
  {
   "cell_type": "markdown",
   "id": "6207a7c2",
   "metadata": {},
   "source": [
    "# Exception Handling:\n",
    "# Using try,expect,finally block"
   ]
  },
  {
   "cell_type": "code",
   "execution_count": 12,
   "id": "351f9bed",
   "metadata": {},
   "outputs": [
    {
     "ename": "TypeError",
     "evalue": "unsupported operand type(s) for +: 'int' and 'str'",
     "output_type": "error",
     "traceback": [
      "\u001b[1;31m---------------------------------------------------------------------------\u001b[0m",
      "\u001b[1;31mTypeError\u001b[0m                                 Traceback (most recent call last)",
      "\u001b[1;32m<ipython-input-12-a4f5c24e4939>\u001b[0m in \u001b[0;36m<module>\u001b[1;34m\u001b[0m\n\u001b[1;32m----> 1\u001b[1;33m \u001b[0mx\u001b[0m\u001b[1;33m=\u001b[0m\u001b[1;36m20\u001b[0m\u001b[1;33m+\u001b[0m\u001b[1;34m'20'\u001b[0m\u001b[1;33m\u001b[0m\u001b[1;33m\u001b[0m\u001b[0m\n\u001b[0m",
      "\u001b[1;31mTypeError\u001b[0m: unsupported operand type(s) for +: 'int' and 'str'"
     ]
    }
   ],
   "source": [
    "x=20+'20'"
   ]
  },
  {
   "cell_type": "code",
   "execution_count": null,
   "id": "6ab9f33b",
   "metadata": {},
   "outputs": [],
   "source": [
    "try:\n",
    "    x=20+'20'\n",
    "except:\n",
    "    print('There is an type error kindly recheck your code')"
   ]
  },
  {
   "cell_type": "code",
   "execution_count": 13,
   "id": "61325acc",
   "metadata": {},
   "outputs": [
    {
     "name": "stdout",
     "output_type": "stream",
     "text": [
      "enter a number:40\n"
     ]
    },
    {
     "ename": "TypeError",
     "evalue": "unsupported operand type(s) for +: 'int' and 'str'",
     "output_type": "error",
     "traceback": [
      "\u001b[1;31m---------------------------------------------------------------------------\u001b[0m",
      "\u001b[1;31mTypeError\u001b[0m                                 Traceback (most recent call last)",
      "\u001b[1;32m<ipython-input-13-866392144515>\u001b[0m in \u001b[0;36m<module>\u001b[1;34m\u001b[0m\n\u001b[0;32m      1\u001b[0m \u001b[0ma\u001b[0m\u001b[1;33m=\u001b[0m\u001b[1;36m20\u001b[0m\u001b[1;33m\u001b[0m\u001b[1;33m\u001b[0m\u001b[0m\n\u001b[0;32m      2\u001b[0m \u001b[0mb\u001b[0m\u001b[1;33m=\u001b[0m\u001b[0minput\u001b[0m\u001b[1;33m(\u001b[0m\u001b[1;34m'enter a number:'\u001b[0m\u001b[1;33m)\u001b[0m\u001b[1;33m\u001b[0m\u001b[1;33m\u001b[0m\u001b[0m\n\u001b[1;32m----> 3\u001b[1;33m \u001b[0mx\u001b[0m\u001b[1;33m=\u001b[0m\u001b[0ma\u001b[0m\u001b[1;33m+\u001b[0m\u001b[0mb\u001b[0m\u001b[1;33m\u001b[0m\u001b[1;33m\u001b[0m\u001b[0m\n\u001b[0m\u001b[0;32m      4\u001b[0m \u001b[0mprint\u001b[0m\u001b[1;33m(\u001b[0m\u001b[0mx\u001b[0m\u001b[1;33m)\u001b[0m\u001b[1;33m\u001b[0m\u001b[1;33m\u001b[0m\u001b[0m\n",
      "\u001b[1;31mTypeError\u001b[0m: unsupported operand type(s) for +: 'int' and 'str'"
     ]
    }
   ],
   "source": [
    "a=20\n",
    "b=input('enter a number:')\n",
    "x=a+b\n",
    "print(x) "
   ]
  },
  {
   "cell_type": "code",
   "execution_count": 14,
   "id": "ce7c09cc",
   "metadata": {},
   "outputs": [
    {
     "data": {
      "text/plain": [
       "str"
      ]
     },
     "execution_count": 14,
     "metadata": {},
     "output_type": "execute_result"
    }
   ],
   "source": [
    "type(b)"
   ]
  },
  {
   "cell_type": "code",
   "execution_count": 31,
   "id": "5c43d2a9",
   "metadata": {},
   "outputs": [
    {
     "name": "stdout",
     "output_type": "stream",
     "text": [
      "enter a number:20\n",
      "40\n"
     ]
    }
   ],
   "source": [
    "try:\n",
    "    a=20\n",
    "    b=int(input('enter a number:'))\n",
    "    x=a+b\n",
    "    print(x) \n",
    "except:\n",
    "    print('There is an type error ,kindly recheck your code')"
   ]
  },
  {
   "cell_type": "code",
   "execution_count": 28,
   "id": "428cb9d2",
   "metadata": {},
   "outputs": [
    {
     "name": "stdout",
     "output_type": "stream",
     "text": [
      "enter a number:'20'\n",
      "There is an type error ,kindly recheck your code\n",
      "Implemented Successfully\n"
     ]
    }
   ],
   "source": [
    "try:\n",
    "    a=20\n",
    "    b=input('enter a number:')\n",
    "    x=a+b\n",
    "    print(x) \n",
    "except:\n",
    "    print('There is an type error ,kindly recheck your code')\n",
    "finally:\n",
    "    print('Implemented Successfully')"
   ]
  },
  {
   "cell_type": "code",
   "execution_count": 29,
   "id": "544a7b25",
   "metadata": {},
   "outputs": [
    {
     "name": "stdout",
     "output_type": "stream",
     "text": [
      "hey! there is an type error\n",
      "thank you\n"
     ]
    }
   ],
   "source": [
    "try:\n",
    "    result=10+'20'\n",
    "except TypeError:\n",
    "    print('hey! there is an type error')\n",
    "except:\n",
    "    print('there is an os error')\n",
    "finally:\n",
    "    print('thank you')"
   ]
  },
  {
   "cell_type": "markdown",
   "id": "03f257d7",
   "metadata": {},
   "source": [
    "# Assignment 4 \n",
    "# handel the exception shown by the code below by using tag-except block and use finally block to print \"Good Job\"."
   ]
  },
  {
   "cell_type": "code",
   "execution_count": null,
   "id": "12877b91",
   "metadata": {},
   "outputs": [],
   "source": [
    "#for i in ['x','y','z']:\n",
    "#print(i**2)"
   ]
  }
 ],
 "metadata": {
  "kernelspec": {
   "display_name": "Python 3",
   "language": "python",
   "name": "python3"
  },
  "language_info": {
   "codemirror_mode": {
    "name": "ipython",
    "version": 3
   },
   "file_extension": ".py",
   "mimetype": "text/x-python",
   "name": "python",
   "nbconvert_exporter": "python",
   "pygments_lexer": "ipython3",
   "version": "3.8.8"
  }
 },
 "nbformat": 4,
 "nbformat_minor": 5
}
